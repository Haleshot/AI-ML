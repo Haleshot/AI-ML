{
  "cells": [
    {
      "cell_type": "markdown",
      "id": "069cef97",
      "metadata": {
        "id": "069cef97"
      },
      "source": [
        "# I066 Srihari Thyagarajan Lab 7"
      ]
    },
    {
      "cell_type": "markdown",
      "source": [
        "![image.png](data:image/png;base64,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)"
      ],
      "metadata": {
        "id": "oak-BHzGkHat"
      },
      "id": "oak-BHzGkHat"
    },
    {
      "cell_type": "code",
      "source": [
        "# import libraries used:\n",
        "import pandas as pd\n",
        "import numpy as np\n",
        "import nltk\n",
        "from nltk.corpus import stopwords\n",
        "from sklearn.feature_extraction.text import TfidfVectorizer\n",
        "from sklearn.model_selection import train_test_split\n",
        "from sklearn.linear_model import LogisticRegression\n",
        "from sklearn.metrics import accuracy_score, classification_report, confusion_matrix\n",
        "\n",
        "import spacy\n",
        "from gensim.models import Word2Vec\n",
        "from numpy import dot, nan_to_num\n",
        "from numpy.linalg import norm\n"
      ],
      "metadata": {
        "id": "V94ARKARkH1t"
      },
      "id": "V94ARKARkH1t",
      "execution_count": 20,
      "outputs": []
    },
    {
      "cell_type": "markdown",
      "source": [
        "### Task 1: Select a dataset and identify the problem statement"
      ],
      "metadata": {
        "id": "Tidi22sslFE7"
      },
      "id": "Tidi22sslFE7"
    },
    {
      "cell_type": "code",
      "source": [
        "df = pd.read_csv('/content/Apple-Twitter-Sentiment-DFE.csv', encoding='ISO-8859-1')"
      ],
      "metadata": {
        "id": "E5SokD54kR6O"
      },
      "id": "E5SokD54kR6O",
      "execution_count": 4,
      "outputs": []
    },
    {
      "cell_type": "markdown",
      "source": [
        "### Task 2: Perform EDA, text preprocessing, feature engineering"
      ],
      "metadata": {
        "id": "fTHdpBiglYWm"
      },
      "id": "fTHdpBiglYWm"
    },
    {
      "cell_type": "code",
      "source": [
        "df.info()"
      ],
      "metadata": {
        "colab": {
          "base_uri": "https://localhost:8080/"
        },
        "id": "CGTqhF04k7wz",
        "outputId": "c276ed01-26cf-42cc-c4f4-b674aa8f86db"
      },
      "id": "CGTqhF04k7wz",
      "execution_count": 5,
      "outputs": [
        {
          "output_type": "stream",
          "name": "stdout",
          "text": [
            "<class 'pandas.core.frame.DataFrame'>\n",
            "RangeIndex: 3886 entries, 0 to 3885\n",
            "Data columns (total 12 columns):\n",
            " #   Column                Non-Null Count  Dtype  \n",
            "---  ------                --------------  -----  \n",
            " 0   _unit_id              3886 non-null   int64  \n",
            " 1   _golden               3886 non-null   bool   \n",
            " 2   _unit_state           3886 non-null   object \n",
            " 3   _trusted_judgments    3886 non-null   int64  \n",
            " 4   _last_judgment_at     3783 non-null   object \n",
            " 5   sentiment             3886 non-null   object \n",
            " 6   sentiment:confidence  3886 non-null   float64\n",
            " 7   date                  3886 non-null   object \n",
            " 8   id                    3886 non-null   float64\n",
            " 9   query                 3886 non-null   object \n",
            " 10  sentiment_gold        103 non-null    object \n",
            " 11  text                  3886 non-null   object \n",
            "dtypes: bool(1), float64(2), int64(2), object(7)\n",
            "memory usage: 337.9+ KB\n"
          ]
        }
      ]
    },
    {
      "cell_type": "code",
      "source": [
        "df.describe()"
      ],
      "metadata": {
        "colab": {
          "base_uri": "https://localhost:8080/",
          "height": 300
        },
        "id": "GoZwIVC2lLVj",
        "outputId": "feb44d1a-61d7-4294-8a07-e593db96f33f"
      },
      "id": "GoZwIVC2lLVj",
      "execution_count": 6,
      "outputs": [
        {
          "output_type": "execute_result",
          "data": {
            "text/plain": [
              "           _unit_id  _trusted_judgments  sentiment:confidence            id\n",
              "count  3.886000e+03         3886.000000           3886.000000  3.886000e+03\n",
              "mean   6.234975e+08            3.687082              0.829526  5.410039e+17\n",
              "std    1.171906e+03            2.004595              0.175864  7.942752e+14\n",
              "min    6.234955e+08            3.000000              0.332700  5.400000e+17\n",
              "25%    6.234965e+08            3.000000              0.674475  5.400000e+17\n",
              "50%    6.234975e+08            3.000000              0.811250  5.410000e+17\n",
              "75%    6.234984e+08            3.000000              1.000000  5.420000e+17\n",
              "max    6.235173e+08           27.000000              1.000000  5.420000e+17"
            ],
            "text/html": [
              "\n",
              "  <div id=\"df-32850436-6608-4845-93de-1644b1359bf2\" class=\"colab-df-container\">\n",
              "    <div>\n",
              "<style scoped>\n",
              "    .dataframe tbody tr th:only-of-type {\n",
              "        vertical-align: middle;\n",
              "    }\n",
              "\n",
              "    .dataframe tbody tr th {\n",
              "        vertical-align: top;\n",
              "    }\n",
              "\n",
              "    .dataframe thead th {\n",
              "        text-align: right;\n",
              "    }\n",
              "</style>\n",
              "<table border=\"1\" class=\"dataframe\">\n",
              "  <thead>\n",
              "    <tr style=\"text-align: right;\">\n",
              "      <th></th>\n",
              "      <th>_unit_id</th>\n",
              "      <th>_trusted_judgments</th>\n",
              "      <th>sentiment:confidence</th>\n",
              "      <th>id</th>\n",
              "    </tr>\n",
              "  </thead>\n",
              "  <tbody>\n",
              "    <tr>\n",
              "      <th>count</th>\n",
              "      <td>3.886000e+03</td>\n",
              "      <td>3886.000000</td>\n",
              "      <td>3886.000000</td>\n",
              "      <td>3.886000e+03</td>\n",
              "    </tr>\n",
              "    <tr>\n",
              "      <th>mean</th>\n",
              "      <td>6.234975e+08</td>\n",
              "      <td>3.687082</td>\n",
              "      <td>0.829526</td>\n",
              "      <td>5.410039e+17</td>\n",
              "    </tr>\n",
              "    <tr>\n",
              "      <th>std</th>\n",
              "      <td>1.171906e+03</td>\n",
              "      <td>2.004595</td>\n",
              "      <td>0.175864</td>\n",
              "      <td>7.942752e+14</td>\n",
              "    </tr>\n",
              "    <tr>\n",
              "      <th>min</th>\n",
              "      <td>6.234955e+08</td>\n",
              "      <td>3.000000</td>\n",
              "      <td>0.332700</td>\n",
              "      <td>5.400000e+17</td>\n",
              "    </tr>\n",
              "    <tr>\n",
              "      <th>25%</th>\n",
              "      <td>6.234965e+08</td>\n",
              "      <td>3.000000</td>\n",
              "      <td>0.674475</td>\n",
              "      <td>5.400000e+17</td>\n",
              "    </tr>\n",
              "    <tr>\n",
              "      <th>50%</th>\n",
              "      <td>6.234975e+08</td>\n",
              "      <td>3.000000</td>\n",
              "      <td>0.811250</td>\n",
              "      <td>5.410000e+17</td>\n",
              "    </tr>\n",
              "    <tr>\n",
              "      <th>75%</th>\n",
              "      <td>6.234984e+08</td>\n",
              "      <td>3.000000</td>\n",
              "      <td>1.000000</td>\n",
              "      <td>5.420000e+17</td>\n",
              "    </tr>\n",
              "    <tr>\n",
              "      <th>max</th>\n",
              "      <td>6.235173e+08</td>\n",
              "      <td>27.000000</td>\n",
              "      <td>1.000000</td>\n",
              "      <td>5.420000e+17</td>\n",
              "    </tr>\n",
              "  </tbody>\n",
              "</table>\n",
              "</div>\n",
              "    <div class=\"colab-df-buttons\">\n",
              "\n",
              "  <div class=\"colab-df-container\">\n",
              "    <button class=\"colab-df-convert\" onclick=\"convertToInteractive('df-32850436-6608-4845-93de-1644b1359bf2')\"\n",
              "            title=\"Convert this dataframe to an interactive table.\"\n",
              "            style=\"display:none;\">\n",
              "\n",
              "  <svg xmlns=\"http://www.w3.org/2000/svg\" height=\"24px\" viewBox=\"0 -960 960 960\">\n",
              "    <path d=\"M120-120v-720h720v720H120Zm60-500h600v-160H180v160Zm220 220h160v-160H400v160Zm0 220h160v-160H400v160ZM180-400h160v-160H180v160Zm440 0h160v-160H620v160ZM180-180h160v-160H180v160Zm440 0h160v-160H620v160Z\"/>\n",
              "  </svg>\n",
              "    </button>\n",
              "\n",
              "  <style>\n",
              "    .colab-df-container {\n",
              "      display:flex;\n",
              "      gap: 12px;\n",
              "    }\n",
              "\n",
              "    .colab-df-convert {\n",
              "      background-color: #E8F0FE;\n",
              "      border: none;\n",
              "      border-radius: 50%;\n",
              "      cursor: pointer;\n",
              "      display: none;\n",
              "      fill: #1967D2;\n",
              "      height: 32px;\n",
              "      padding: 0 0 0 0;\n",
              "      width: 32px;\n",
              "    }\n",
              "\n",
              "    .colab-df-convert:hover {\n",
              "      background-color: #E2EBFA;\n",
              "      box-shadow: 0px 1px 2px rgba(60, 64, 67, 0.3), 0px 1px 3px 1px rgba(60, 64, 67, 0.15);\n",
              "      fill: #174EA6;\n",
              "    }\n",
              "\n",
              "    .colab-df-buttons div {\n",
              "      margin-bottom: 4px;\n",
              "    }\n",
              "\n",
              "    [theme=dark] .colab-df-convert {\n",
              "      background-color: #3B4455;\n",
              "      fill: #D2E3FC;\n",
              "    }\n",
              "\n",
              "    [theme=dark] .colab-df-convert:hover {\n",
              "      background-color: #434B5C;\n",
              "      box-shadow: 0px 1px 3px 1px rgba(0, 0, 0, 0.15);\n",
              "      filter: drop-shadow(0px 1px 2px rgba(0, 0, 0, 0.3));\n",
              "      fill: #FFFFFF;\n",
              "    }\n",
              "  </style>\n",
              "\n",
              "    <script>\n",
              "      const buttonEl =\n",
              "        document.querySelector('#df-32850436-6608-4845-93de-1644b1359bf2 button.colab-df-convert');\n",
              "      buttonEl.style.display =\n",
              "        google.colab.kernel.accessAllowed ? 'block' : 'none';\n",
              "\n",
              "      async function convertToInteractive(key) {\n",
              "        const element = document.querySelector('#df-32850436-6608-4845-93de-1644b1359bf2');\n",
              "        const dataTable =\n",
              "          await google.colab.kernel.invokeFunction('convertToInteractive',\n",
              "                                                    [key], {});\n",
              "        if (!dataTable) return;\n",
              "\n",
              "        const docLinkHtml = 'Like what you see? Visit the ' +\n",
              "          '<a target=\"_blank\" href=https://colab.research.google.com/notebooks/data_table.ipynb>data table notebook</a>'\n",
              "          + ' to learn more about interactive tables.';\n",
              "        element.innerHTML = '';\n",
              "        dataTable['output_type'] = 'display_data';\n",
              "        await google.colab.output.renderOutput(dataTable, element);\n",
              "        const docLink = document.createElement('div');\n",
              "        docLink.innerHTML = docLinkHtml;\n",
              "        element.appendChild(docLink);\n",
              "      }\n",
              "    </script>\n",
              "  </div>\n",
              "\n",
              "\n",
              "<div id=\"df-51933430-4165-47b6-a222-e499273f1fc5\">\n",
              "  <button class=\"colab-df-quickchart\" onclick=\"quickchart('df-51933430-4165-47b6-a222-e499273f1fc5')\"\n",
              "            title=\"Suggest charts.\"\n",
              "            style=\"display:none;\">\n",
              "\n",
              "<svg xmlns=\"http://www.w3.org/2000/svg\" height=\"24px\"viewBox=\"0 0 24 24\"\n",
              "     width=\"24px\">\n",
              "    <g>\n",
              "        <path d=\"M19 3H5c-1.1 0-2 .9-2 2v14c0 1.1.9 2 2 2h14c1.1 0 2-.9 2-2V5c0-1.1-.9-2-2-2zM9 17H7v-7h2v7zm4 0h-2V7h2v10zm4 0h-2v-4h2v4z\"/>\n",
              "    </g>\n",
              "</svg>\n",
              "  </button>\n",
              "\n",
              "<style>\n",
              "  .colab-df-quickchart {\n",
              "      --bg-color: #E8F0FE;\n",
              "      --fill-color: #1967D2;\n",
              "      --hover-bg-color: #E2EBFA;\n",
              "      --hover-fill-color: #174EA6;\n",
              "      --disabled-fill-color: #AAA;\n",
              "      --disabled-bg-color: #DDD;\n",
              "  }\n",
              "\n",
              "  [theme=dark] .colab-df-quickchart {\n",
              "      --bg-color: #3B4455;\n",
              "      --fill-color: #D2E3FC;\n",
              "      --hover-bg-color: #434B5C;\n",
              "      --hover-fill-color: #FFFFFF;\n",
              "      --disabled-bg-color: #3B4455;\n",
              "      --disabled-fill-color: #666;\n",
              "  }\n",
              "\n",
              "  .colab-df-quickchart {\n",
              "    background-color: var(--bg-color);\n",
              "    border: none;\n",
              "    border-radius: 50%;\n",
              "    cursor: pointer;\n",
              "    display: none;\n",
              "    fill: var(--fill-color);\n",
              "    height: 32px;\n",
              "    padding: 0;\n",
              "    width: 32px;\n",
              "  }\n",
              "\n",
              "  .colab-df-quickchart:hover {\n",
              "    background-color: var(--hover-bg-color);\n",
              "    box-shadow: 0 1px 2px rgba(60, 64, 67, 0.3), 0 1px 3px 1px rgba(60, 64, 67, 0.15);\n",
              "    fill: var(--button-hover-fill-color);\n",
              "  }\n",
              "\n",
              "  .colab-df-quickchart-complete:disabled,\n",
              "  .colab-df-quickchart-complete:disabled:hover {\n",
              "    background-color: var(--disabled-bg-color);\n",
              "    fill: var(--disabled-fill-color);\n",
              "    box-shadow: none;\n",
              "  }\n",
              "\n",
              "  .colab-df-spinner {\n",
              "    border: 2px solid var(--fill-color);\n",
              "    border-color: transparent;\n",
              "    border-bottom-color: var(--fill-color);\n",
              "    animation:\n",
              "      spin 1s steps(1) infinite;\n",
              "  }\n",
              "\n",
              "  @keyframes spin {\n",
              "    0% {\n",
              "      border-color: transparent;\n",
              "      border-bottom-color: var(--fill-color);\n",
              "      border-left-color: var(--fill-color);\n",
              "    }\n",
              "    20% {\n",
              "      border-color: transparent;\n",
              "      border-left-color: var(--fill-color);\n",
              "      border-top-color: var(--fill-color);\n",
              "    }\n",
              "    30% {\n",
              "      border-color: transparent;\n",
              "      border-left-color: var(--fill-color);\n",
              "      border-top-color: var(--fill-color);\n",
              "      border-right-color: var(--fill-color);\n",
              "    }\n",
              "    40% {\n",
              "      border-color: transparent;\n",
              "      border-right-color: var(--fill-color);\n",
              "      border-top-color: var(--fill-color);\n",
              "    }\n",
              "    60% {\n",
              "      border-color: transparent;\n",
              "      border-right-color: var(--fill-color);\n",
              "    }\n",
              "    80% {\n",
              "      border-color: transparent;\n",
              "      border-right-color: var(--fill-color);\n",
              "      border-bottom-color: var(--fill-color);\n",
              "    }\n",
              "    90% {\n",
              "      border-color: transparent;\n",
              "      border-bottom-color: var(--fill-color);\n",
              "    }\n",
              "  }\n",
              "</style>\n",
              "\n",
              "  <script>\n",
              "    async function quickchart(key) {\n",
              "      const quickchartButtonEl =\n",
              "        document.querySelector('#' + key + ' button');\n",
              "      quickchartButtonEl.disabled = true;  // To prevent multiple clicks.\n",
              "      quickchartButtonEl.classList.add('colab-df-spinner');\n",
              "      try {\n",
              "        const charts = await google.colab.kernel.invokeFunction(\n",
              "            'suggestCharts', [key], {});\n",
              "      } catch (error) {\n",
              "        console.error('Error during call to suggestCharts:', error);\n",
              "      }\n",
              "      quickchartButtonEl.classList.remove('colab-df-spinner');\n",
              "      quickchartButtonEl.classList.add('colab-df-quickchart-complete');\n",
              "    }\n",
              "    (() => {\n",
              "      let quickchartButtonEl =\n",
              "        document.querySelector('#df-51933430-4165-47b6-a222-e499273f1fc5 button');\n",
              "      quickchartButtonEl.style.display =\n",
              "        google.colab.kernel.accessAllowed ? 'block' : 'none';\n",
              "    })();\n",
              "  </script>\n",
              "</div>\n",
              "    </div>\n",
              "  </div>\n"
            ]
          },
          "metadata": {},
          "execution_count": 6
        }
      ]
    },
    {
      "cell_type": "code",
      "source": [
        "df.head()"
      ],
      "metadata": {
        "colab": {
          "base_uri": "https://localhost:8080/",
          "height": 573
        },
        "id": "2YJV-jh2lOrc",
        "outputId": "56cccd13-2a8f-4481-f175-49c2d14d93ca"
      },
      "id": "2YJV-jh2lOrc",
      "execution_count": 7,
      "outputs": [
        {
          "output_type": "execute_result",
          "data": {
            "text/plain": [
              "    _unit_id  _golden _unit_state  _trusted_judgments _last_judgment_at  \\\n",
              "0  623495513     True      golden                  10               NaN   \n",
              "1  623495514     True      golden                  12               NaN   \n",
              "2  623495515     True      golden                  10               NaN   \n",
              "3  623495516     True      golden                  17               NaN   \n",
              "4  623495517    False   finalized                   3    12/12/14 12:14   \n",
              "\n",
              "  sentiment  sentiment:confidence                            date  \\\n",
              "0         3                0.6264  Mon Dec 01 19:30:03 +0000 2014   \n",
              "1         3                0.8129  Mon Dec 01 19:43:51 +0000 2014   \n",
              "2         3                1.0000  Mon Dec 01 19:50:28 +0000 2014   \n",
              "3         3                0.5848  Mon Dec 01 20:26:34 +0000 2014   \n",
              "4         3                0.6474  Mon Dec 01 20:29:33 +0000 2014   \n",
              "\n",
              "             id            query   sentiment_gold  \\\n",
              "0  5.400000e+17  #AAPL OR @Apple  3\\nnot_relevant   \n",
              "1  5.400000e+17  #AAPL OR @Apple             3\\n1   \n",
              "2  5.400000e+17  #AAPL OR @Apple                3   \n",
              "3  5.400000e+17  #AAPL OR @Apple             3\\n1   \n",
              "4  5.400000e+17  #AAPL OR @Apple              NaN   \n",
              "\n",
              "                                                text  \n",
              "0  #AAPL:The 10 best Steve Jobs emails ever...htt...  \n",
              "1  RT @JPDesloges: Why AAPL Stock Had a Mini-Flas...  \n",
              "2  My cat only chews @apple cords. Such an #Apple...  \n",
              "3  I agree with @jimcramer that the #IndividualIn...  \n",
              "4       Nobody expects the Spanish Inquisition #AAPL  "
            ],
            "text/html": [
              "\n",
              "  <div id=\"df-3668bf32-2cb2-4df9-9707-6cc01f8683ee\" class=\"colab-df-container\">\n",
              "    <div>\n",
              "<style scoped>\n",
              "    .dataframe tbody tr th:only-of-type {\n",
              "        vertical-align: middle;\n",
              "    }\n",
              "\n",
              "    .dataframe tbody tr th {\n",
              "        vertical-align: top;\n",
              "    }\n",
              "\n",
              "    .dataframe thead th {\n",
              "        text-align: right;\n",
              "    }\n",
              "</style>\n",
              "<table border=\"1\" class=\"dataframe\">\n",
              "  <thead>\n",
              "    <tr style=\"text-align: right;\">\n",
              "      <th></th>\n",
              "      <th>_unit_id</th>\n",
              "      <th>_golden</th>\n",
              "      <th>_unit_state</th>\n",
              "      <th>_trusted_judgments</th>\n",
              "      <th>_last_judgment_at</th>\n",
              "      <th>sentiment</th>\n",
              "      <th>sentiment:confidence</th>\n",
              "      <th>date</th>\n",
              "      <th>id</th>\n",
              "      <th>query</th>\n",
              "      <th>sentiment_gold</th>\n",
              "      <th>text</th>\n",
              "    </tr>\n",
              "  </thead>\n",
              "  <tbody>\n",
              "    <tr>\n",
              "      <th>0</th>\n",
              "      <td>623495513</td>\n",
              "      <td>True</td>\n",
              "      <td>golden</td>\n",
              "      <td>10</td>\n",
              "      <td>NaN</td>\n",
              "      <td>3</td>\n",
              "      <td>0.6264</td>\n",
              "      <td>Mon Dec 01 19:30:03 +0000 2014</td>\n",
              "      <td>5.400000e+17</td>\n",
              "      <td>#AAPL OR @Apple</td>\n",
              "      <td>3\\nnot_relevant</td>\n",
              "      <td>#AAPL:The 10 best Steve Jobs emails ever...htt...</td>\n",
              "    </tr>\n",
              "    <tr>\n",
              "      <th>1</th>\n",
              "      <td>623495514</td>\n",
              "      <td>True</td>\n",
              "      <td>golden</td>\n",
              "      <td>12</td>\n",
              "      <td>NaN</td>\n",
              "      <td>3</td>\n",
              "      <td>0.8129</td>\n",
              "      <td>Mon Dec 01 19:43:51 +0000 2014</td>\n",
              "      <td>5.400000e+17</td>\n",
              "      <td>#AAPL OR @Apple</td>\n",
              "      <td>3\\n1</td>\n",
              "      <td>RT @JPDesloges: Why AAPL Stock Had a Mini-Flas...</td>\n",
              "    </tr>\n",
              "    <tr>\n",
              "      <th>2</th>\n",
              "      <td>623495515</td>\n",
              "      <td>True</td>\n",
              "      <td>golden</td>\n",
              "      <td>10</td>\n",
              "      <td>NaN</td>\n",
              "      <td>3</td>\n",
              "      <td>1.0000</td>\n",
              "      <td>Mon Dec 01 19:50:28 +0000 2014</td>\n",
              "      <td>5.400000e+17</td>\n",
              "      <td>#AAPL OR @Apple</td>\n",
              "      <td>3</td>\n",
              "      <td>My cat only chews @apple cords. Such an #Apple...</td>\n",
              "    </tr>\n",
              "    <tr>\n",
              "      <th>3</th>\n",
              "      <td>623495516</td>\n",
              "      <td>True</td>\n",
              "      <td>golden</td>\n",
              "      <td>17</td>\n",
              "      <td>NaN</td>\n",
              "      <td>3</td>\n",
              "      <td>0.5848</td>\n",
              "      <td>Mon Dec 01 20:26:34 +0000 2014</td>\n",
              "      <td>5.400000e+17</td>\n",
              "      <td>#AAPL OR @Apple</td>\n",
              "      <td>3\\n1</td>\n",
              "      <td>I agree with @jimcramer that the #IndividualIn...</td>\n",
              "    </tr>\n",
              "    <tr>\n",
              "      <th>4</th>\n",
              "      <td>623495517</td>\n",
              "      <td>False</td>\n",
              "      <td>finalized</td>\n",
              "      <td>3</td>\n",
              "      <td>12/12/14 12:14</td>\n",
              "      <td>3</td>\n",
              "      <td>0.6474</td>\n",
              "      <td>Mon Dec 01 20:29:33 +0000 2014</td>\n",
              "      <td>5.400000e+17</td>\n",
              "      <td>#AAPL OR @Apple</td>\n",
              "      <td>NaN</td>\n",
              "      <td>Nobody expects the Spanish Inquisition #AAPL</td>\n",
              "    </tr>\n",
              "  </tbody>\n",
              "</table>\n",
              "</div>\n",
              "    <div class=\"colab-df-buttons\">\n",
              "\n",
              "  <div class=\"colab-df-container\">\n",
              "    <button class=\"colab-df-convert\" onclick=\"convertToInteractive('df-3668bf32-2cb2-4df9-9707-6cc01f8683ee')\"\n",
              "            title=\"Convert this dataframe to an interactive table.\"\n",
              "            style=\"display:none;\">\n",
              "\n",
              "  <svg xmlns=\"http://www.w3.org/2000/svg\" height=\"24px\" viewBox=\"0 -960 960 960\">\n",
              "    <path d=\"M120-120v-720h720v720H120Zm60-500h600v-160H180v160Zm220 220h160v-160H400v160Zm0 220h160v-160H400v160ZM180-400h160v-160H180v160Zm440 0h160v-160H620v160ZM180-180h160v-160H180v160Zm440 0h160v-160H620v160Z\"/>\n",
              "  </svg>\n",
              "    </button>\n",
              "\n",
              "  <style>\n",
              "    .colab-df-container {\n",
              "      display:flex;\n",
              "      gap: 12px;\n",
              "    }\n",
              "\n",
              "    .colab-df-convert {\n",
              "      background-color: #E8F0FE;\n",
              "      border: none;\n",
              "      border-radius: 50%;\n",
              "      cursor: pointer;\n",
              "      display: none;\n",
              "      fill: #1967D2;\n",
              "      height: 32px;\n",
              "      padding: 0 0 0 0;\n",
              "      width: 32px;\n",
              "    }\n",
              "\n",
              "    .colab-df-convert:hover {\n",
              "      background-color: #E2EBFA;\n",
              "      box-shadow: 0px 1px 2px rgba(60, 64, 67, 0.3), 0px 1px 3px 1px rgba(60, 64, 67, 0.15);\n",
              "      fill: #174EA6;\n",
              "    }\n",
              "\n",
              "    .colab-df-buttons div {\n",
              "      margin-bottom: 4px;\n",
              "    }\n",
              "\n",
              "    [theme=dark] .colab-df-convert {\n",
              "      background-color: #3B4455;\n",
              "      fill: #D2E3FC;\n",
              "    }\n",
              "\n",
              "    [theme=dark] .colab-df-convert:hover {\n",
              "      background-color: #434B5C;\n",
              "      box-shadow: 0px 1px 3px 1px rgba(0, 0, 0, 0.15);\n",
              "      filter: drop-shadow(0px 1px 2px rgba(0, 0, 0, 0.3));\n",
              "      fill: #FFFFFF;\n",
              "    }\n",
              "  </style>\n",
              "\n",
              "    <script>\n",
              "      const buttonEl =\n",
              "        document.querySelector('#df-3668bf32-2cb2-4df9-9707-6cc01f8683ee button.colab-df-convert');\n",
              "      buttonEl.style.display =\n",
              "        google.colab.kernel.accessAllowed ? 'block' : 'none';\n",
              "\n",
              "      async function convertToInteractive(key) {\n",
              "        const element = document.querySelector('#df-3668bf32-2cb2-4df9-9707-6cc01f8683ee');\n",
              "        const dataTable =\n",
              "          await google.colab.kernel.invokeFunction('convertToInteractive',\n",
              "                                                    [key], {});\n",
              "        if (!dataTable) return;\n",
              "\n",
              "        const docLinkHtml = 'Like what you see? Visit the ' +\n",
              "          '<a target=\"_blank\" href=https://colab.research.google.com/notebooks/data_table.ipynb>data table notebook</a>'\n",
              "          + ' to learn more about interactive tables.';\n",
              "        element.innerHTML = '';\n",
              "        dataTable['output_type'] = 'display_data';\n",
              "        await google.colab.output.renderOutput(dataTable, element);\n",
              "        const docLink = document.createElement('div');\n",
              "        docLink.innerHTML = docLinkHtml;\n",
              "        element.appendChild(docLink);\n",
              "      }\n",
              "    </script>\n",
              "  </div>\n",
              "\n",
              "\n",
              "<div id=\"df-da0c7af8-58f3-48e1-867e-68321e2e1580\">\n",
              "  <button class=\"colab-df-quickchart\" onclick=\"quickchart('df-da0c7af8-58f3-48e1-867e-68321e2e1580')\"\n",
              "            title=\"Suggest charts.\"\n",
              "            style=\"display:none;\">\n",
              "\n",
              "<svg xmlns=\"http://www.w3.org/2000/svg\" height=\"24px\"viewBox=\"0 0 24 24\"\n",
              "     width=\"24px\">\n",
              "    <g>\n",
              "        <path d=\"M19 3H5c-1.1 0-2 .9-2 2v14c0 1.1.9 2 2 2h14c1.1 0 2-.9 2-2V5c0-1.1-.9-2-2-2zM9 17H7v-7h2v7zm4 0h-2V7h2v10zm4 0h-2v-4h2v4z\"/>\n",
              "    </g>\n",
              "</svg>\n",
              "  </button>\n",
              "\n",
              "<style>\n",
              "  .colab-df-quickchart {\n",
              "      --bg-color: #E8F0FE;\n",
              "      --fill-color: #1967D2;\n",
              "      --hover-bg-color: #E2EBFA;\n",
              "      --hover-fill-color: #174EA6;\n",
              "      --disabled-fill-color: #AAA;\n",
              "      --disabled-bg-color: #DDD;\n",
              "  }\n",
              "\n",
              "  [theme=dark] .colab-df-quickchart {\n",
              "      --bg-color: #3B4455;\n",
              "      --fill-color: #D2E3FC;\n",
              "      --hover-bg-color: #434B5C;\n",
              "      --hover-fill-color: #FFFFFF;\n",
              "      --disabled-bg-color: #3B4455;\n",
              "      --disabled-fill-color: #666;\n",
              "  }\n",
              "\n",
              "  .colab-df-quickchart {\n",
              "    background-color: var(--bg-color);\n",
              "    border: none;\n",
              "    border-radius: 50%;\n",
              "    cursor: pointer;\n",
              "    display: none;\n",
              "    fill: var(--fill-color);\n",
              "    height: 32px;\n",
              "    padding: 0;\n",
              "    width: 32px;\n",
              "  }\n",
              "\n",
              "  .colab-df-quickchart:hover {\n",
              "    background-color: var(--hover-bg-color);\n",
              "    box-shadow: 0 1px 2px rgba(60, 64, 67, 0.3), 0 1px 3px 1px rgba(60, 64, 67, 0.15);\n",
              "    fill: var(--button-hover-fill-color);\n",
              "  }\n",
              "\n",
              "  .colab-df-quickchart-complete:disabled,\n",
              "  .colab-df-quickchart-complete:disabled:hover {\n",
              "    background-color: var(--disabled-bg-color);\n",
              "    fill: var(--disabled-fill-color);\n",
              "    box-shadow: none;\n",
              "  }\n",
              "\n",
              "  .colab-df-spinner {\n",
              "    border: 2px solid var(--fill-color);\n",
              "    border-color: transparent;\n",
              "    border-bottom-color: var(--fill-color);\n",
              "    animation:\n",
              "      spin 1s steps(1) infinite;\n",
              "  }\n",
              "\n",
              "  @keyframes spin {\n",
              "    0% {\n",
              "      border-color: transparent;\n",
              "      border-bottom-color: var(--fill-color);\n",
              "      border-left-color: var(--fill-color);\n",
              "    }\n",
              "    20% {\n",
              "      border-color: transparent;\n",
              "      border-left-color: var(--fill-color);\n",
              "      border-top-color: var(--fill-color);\n",
              "    }\n",
              "    30% {\n",
              "      border-color: transparent;\n",
              "      border-left-color: var(--fill-color);\n",
              "      border-top-color: var(--fill-color);\n",
              "      border-right-color: var(--fill-color);\n",
              "    }\n",
              "    40% {\n",
              "      border-color: transparent;\n",
              "      border-right-color: var(--fill-color);\n",
              "      border-top-color: var(--fill-color);\n",
              "    }\n",
              "    60% {\n",
              "      border-color: transparent;\n",
              "      border-right-color: var(--fill-color);\n",
              "    }\n",
              "    80% {\n",
              "      border-color: transparent;\n",
              "      border-right-color: var(--fill-color);\n",
              "      border-bottom-color: var(--fill-color);\n",
              "    }\n",
              "    90% {\n",
              "      border-color: transparent;\n",
              "      border-bottom-color: var(--fill-color);\n",
              "    }\n",
              "  }\n",
              "</style>\n",
              "\n",
              "  <script>\n",
              "    async function quickchart(key) {\n",
              "      const quickchartButtonEl =\n",
              "        document.querySelector('#' + key + ' button');\n",
              "      quickchartButtonEl.disabled = true;  // To prevent multiple clicks.\n",
              "      quickchartButtonEl.classList.add('colab-df-spinner');\n",
              "      try {\n",
              "        const charts = await google.colab.kernel.invokeFunction(\n",
              "            'suggestCharts', [key], {});\n",
              "      } catch (error) {\n",
              "        console.error('Error during call to suggestCharts:', error);\n",
              "      }\n",
              "      quickchartButtonEl.classList.remove('colab-df-spinner');\n",
              "      quickchartButtonEl.classList.add('colab-df-quickchart-complete');\n",
              "    }\n",
              "    (() => {\n",
              "      let quickchartButtonEl =\n",
              "        document.querySelector('#df-da0c7af8-58f3-48e1-867e-68321e2e1580 button');\n",
              "      quickchartButtonEl.style.display =\n",
              "        google.colab.kernel.accessAllowed ? 'block' : 'none';\n",
              "    })();\n",
              "  </script>\n",
              "</div>\n",
              "    </div>\n",
              "  </div>\n"
            ]
          },
          "metadata": {},
          "execution_count": 7
        }
      ]
    },
    {
      "cell_type": "code",
      "source": [
        "df['sentiment'].value_counts()"
      ],
      "metadata": {
        "colab": {
          "base_uri": "https://localhost:8080/"
        },
        "id": "e0VeVAi-lPp8",
        "outputId": "31f82322-0ab6-4697-a732-3c49c77cbfd4"
      },
      "id": "e0VeVAi-lPp8",
      "execution_count": 8,
      "outputs": [
        {
          "output_type": "execute_result",
          "data": {
            "text/plain": [
              "3               2162\n",
              "1               1219\n",
              "5                423\n",
              "not_relevant      82\n",
              "Name: sentiment, dtype: int64"
            ]
          },
          "metadata": {},
          "execution_count": 8
        }
      ]
    },
    {
      "cell_type": "code",
      "source": [
        "def preprocess_text(text):\n",
        "    text = text.lower()\n",
        "    text = ' '.join([word for word in text.split() if word.isalnum()])\n",
        "    text = ' '.join([word for word in text.split() if word not in stop_words])\n",
        "    return text"
      ],
      "metadata": {
        "id": "CaIjdNBflS2c"
      },
      "id": "CaIjdNBflS2c",
      "execution_count": 10,
      "outputs": []
    },
    {
      "cell_type": "code",
      "source": [
        "df['text_cleaned'] = df['text'].apply(preprocess_text)"
      ],
      "metadata": {
        "id": "thvVuvSHlV4-"
      },
      "id": "thvVuvSHlV4-",
      "execution_count": 11,
      "outputs": []
    },
    {
      "cell_type": "code",
      "source": [
        "tfidf_vectorizer = TfidfVectorizer(max_features=5000, ngram_range=(1, 2))\n",
        "X = tfidf_vectorizer.fit_transform(df['text_cleaned'])\n",
        "y = df['sentiment']"
      ],
      "metadata": {
        "id": "epbmJAZHle5Z"
      },
      "id": "epbmJAZHle5Z",
      "execution_count": 12,
      "outputs": []
    },
    {
      "cell_type": "code",
      "source": [
        "X_train, X_test, y_train, y_test = train_test_split(X, y, test_size=0.2, random_state=42)\n",
        "\n",
        "classifier = LogisticRegression(max_iter=1000)\n",
        "classifier.fit(X_train, y_train)"
      ],
      "metadata": {
        "colab": {
          "base_uri": "https://localhost:8080/",
          "height": 74
        },
        "id": "Iz0YRq-dlhLI",
        "outputId": "fbf78781-39d4-4809-bdfe-e3b75a8dbe82"
      },
      "id": "Iz0YRq-dlhLI",
      "execution_count": 13,
      "outputs": [
        {
          "output_type": "execute_result",
          "data": {
            "text/plain": [
              "LogisticRegression(max_iter=1000)"
            ],
            "text/html": [
              "<style>#sk-container-id-1 {color: black;background-color: white;}#sk-container-id-1 pre{padding: 0;}#sk-container-id-1 div.sk-toggleable {background-color: white;}#sk-container-id-1 label.sk-toggleable__label {cursor: pointer;display: block;width: 100%;margin-bottom: 0;padding: 0.3em;box-sizing: border-box;text-align: center;}#sk-container-id-1 label.sk-toggleable__label-arrow:before {content: \"▸\";float: left;margin-right: 0.25em;color: #696969;}#sk-container-id-1 label.sk-toggleable__label-arrow:hover:before {color: black;}#sk-container-id-1 div.sk-estimator:hover label.sk-toggleable__label-arrow:before {color: black;}#sk-container-id-1 div.sk-toggleable__content {max-height: 0;max-width: 0;overflow: hidden;text-align: left;background-color: #f0f8ff;}#sk-container-id-1 div.sk-toggleable__content pre {margin: 0.2em;color: black;border-radius: 0.25em;background-color: #f0f8ff;}#sk-container-id-1 input.sk-toggleable__control:checked~div.sk-toggleable__content {max-height: 200px;max-width: 100%;overflow: auto;}#sk-container-id-1 input.sk-toggleable__control:checked~label.sk-toggleable__label-arrow:before {content: \"▾\";}#sk-container-id-1 div.sk-estimator input.sk-toggleable__control:checked~label.sk-toggleable__label {background-color: #d4ebff;}#sk-container-id-1 div.sk-label input.sk-toggleable__control:checked~label.sk-toggleable__label {background-color: #d4ebff;}#sk-container-id-1 input.sk-hidden--visually {border: 0;clip: rect(1px 1px 1px 1px);clip: rect(1px, 1px, 1px, 1px);height: 1px;margin: -1px;overflow: hidden;padding: 0;position: absolute;width: 1px;}#sk-container-id-1 div.sk-estimator {font-family: monospace;background-color: #f0f8ff;border: 1px dotted black;border-radius: 0.25em;box-sizing: border-box;margin-bottom: 0.5em;}#sk-container-id-1 div.sk-estimator:hover {background-color: #d4ebff;}#sk-container-id-1 div.sk-parallel-item::after {content: \"\";width: 100%;border-bottom: 1px solid gray;flex-grow: 1;}#sk-container-id-1 div.sk-label:hover label.sk-toggleable__label {background-color: #d4ebff;}#sk-container-id-1 div.sk-serial::before {content: \"\";position: absolute;border-left: 1px solid gray;box-sizing: border-box;top: 0;bottom: 0;left: 50%;z-index: 0;}#sk-container-id-1 div.sk-serial {display: flex;flex-direction: column;align-items: center;background-color: white;padding-right: 0.2em;padding-left: 0.2em;position: relative;}#sk-container-id-1 div.sk-item {position: relative;z-index: 1;}#sk-container-id-1 div.sk-parallel {display: flex;align-items: stretch;justify-content: center;background-color: white;position: relative;}#sk-container-id-1 div.sk-item::before, #sk-container-id-1 div.sk-parallel-item::before {content: \"\";position: absolute;border-left: 1px solid gray;box-sizing: border-box;top: 0;bottom: 0;left: 50%;z-index: -1;}#sk-container-id-1 div.sk-parallel-item {display: flex;flex-direction: column;z-index: 1;position: relative;background-color: white;}#sk-container-id-1 div.sk-parallel-item:first-child::after {align-self: flex-end;width: 50%;}#sk-container-id-1 div.sk-parallel-item:last-child::after {align-self: flex-start;width: 50%;}#sk-container-id-1 div.sk-parallel-item:only-child::after {width: 0;}#sk-container-id-1 div.sk-dashed-wrapped {border: 1px dashed gray;margin: 0 0.4em 0.5em 0.4em;box-sizing: border-box;padding-bottom: 0.4em;background-color: white;}#sk-container-id-1 div.sk-label label {font-family: monospace;font-weight: bold;display: inline-block;line-height: 1.2em;}#sk-container-id-1 div.sk-label-container {text-align: center;}#sk-container-id-1 div.sk-container {/* jupyter's `normalize.less` sets `[hidden] { display: none; }` but bootstrap.min.css set `[hidden] { display: none !important; }` so we also need the `!important` here to be able to override the default hidden behavior on the sphinx rendered scikit-learn.org. See: https://github.com/scikit-learn/scikit-learn/issues/21755 */display: inline-block !important;position: relative;}#sk-container-id-1 div.sk-text-repr-fallback {display: none;}</style><div id=\"sk-container-id-1\" class=\"sk-top-container\"><div class=\"sk-text-repr-fallback\"><pre>LogisticRegression(max_iter=1000)</pre><b>In a Jupyter environment, please rerun this cell to show the HTML representation or trust the notebook. <br />On GitHub, the HTML representation is unable to render, please try loading this page with nbviewer.org.</b></div><div class=\"sk-container\" hidden><div class=\"sk-item\"><div class=\"sk-estimator sk-toggleable\"><input class=\"sk-toggleable__control sk-hidden--visually\" id=\"sk-estimator-id-1\" type=\"checkbox\" checked><label for=\"sk-estimator-id-1\" class=\"sk-toggleable__label sk-toggleable__label-arrow\">LogisticRegression</label><div class=\"sk-toggleable__content\"><pre>LogisticRegression(max_iter=1000)</pre></div></div></div></div></div>"
            ]
          },
          "metadata": {},
          "execution_count": 13
        }
      ]
    },
    {
      "cell_type": "code",
      "source": [
        "y_pred = classifier.predict(X_test)"
      ],
      "metadata": {
        "id": "zh5Fk6oKli-c"
      },
      "id": "zh5Fk6oKli-c",
      "execution_count": 14,
      "outputs": []
    },
    {
      "cell_type": "code",
      "source": [
        "accuracy = accuracy_score(y_test, y_pred)\n",
        "confusion = confusion_matrix(y_test, y_pred)\n",
        "report = classification_report(y_test, y_pred)"
      ],
      "metadata": {
        "colab": {
          "base_uri": "https://localhost:8080/"
        },
        "id": "AI3zwN72lj7d",
        "outputId": "7bdaea7f-6aa2-4155-e524-b495bc8dff50"
      },
      "id": "AI3zwN72lj7d",
      "execution_count": 15,
      "outputs": [
        {
          "output_type": "stream",
          "name": "stderr",
          "text": [
            "/usr/local/lib/python3.10/dist-packages/sklearn/metrics/_classification.py:1344: UndefinedMetricWarning: Precision and F-score are ill-defined and being set to 0.0 in labels with no predicted samples. Use `zero_division` parameter to control this behavior.\n",
            "  _warn_prf(average, modifier, msg_start, len(result))\n",
            "/usr/local/lib/python3.10/dist-packages/sklearn/metrics/_classification.py:1344: UndefinedMetricWarning: Precision and F-score are ill-defined and being set to 0.0 in labels with no predicted samples. Use `zero_division` parameter to control this behavior.\n",
            "  _warn_prf(average, modifier, msg_start, len(result))\n",
            "/usr/local/lib/python3.10/dist-packages/sklearn/metrics/_classification.py:1344: UndefinedMetricWarning: Precision and F-score are ill-defined and being set to 0.0 in labels with no predicted samples. Use `zero_division` parameter to control this behavior.\n",
            "  _warn_prf(average, modifier, msg_start, len(result))\n"
          ]
        }
      ]
    },
    {
      "cell_type": "code",
      "source": [
        "confusion"
      ],
      "metadata": {
        "colab": {
          "base_uri": "https://localhost:8080/"
        },
        "id": "G5CuRGJjllG4",
        "outputId": "6a73af58-2f6a-48ed-d610-eb8c6eee323a"
      },
      "id": "G5CuRGJjllG4",
      "execution_count": 17,
      "outputs": [
        {
          "output_type": "execute_result",
          "data": {
            "text/plain": [
              "array([[140,  97,   3,   0],\n",
              "       [ 26, 397,   1,   0],\n",
              "       [ 12,  67,  20,   0],\n",
              "       [  1,  14,   0,   0]])"
            ]
          },
          "metadata": {},
          "execution_count": 17
        }
      ]
    },
    {
      "cell_type": "code",
      "source": [
        "accuracy"
      ],
      "metadata": {
        "colab": {
          "base_uri": "https://localhost:8080/"
        },
        "id": "dceNFD3Wlrp_",
        "outputId": "3109143d-3454-46c3-beae-22672f12ff2e"
      },
      "id": "dceNFD3Wlrp_",
      "execution_count": 18,
      "outputs": [
        {
          "output_type": "execute_result",
          "data": {
            "text/plain": [
              "0.7159383033419023"
            ]
          },
          "metadata": {},
          "execution_count": 18
        }
      ]
    },
    {
      "cell_type": "code",
      "source": [
        "report"
      ],
      "metadata": {
        "colab": {
          "base_uri": "https://localhost:8080/",
          "height": 88
        },
        "id": "tK0iGSCiluCo",
        "outputId": "f1234083-b96d-4f66-b2f7-3e37c43b4874"
      },
      "id": "tK0iGSCiluCo",
      "execution_count": 19,
      "outputs": [
        {
          "output_type": "execute_result",
          "data": {
            "text/plain": [
              "'              precision    recall  f1-score   support\\n\\n           1       0.78      0.58      0.67       240\\n           3       0.69      0.94      0.79       424\\n           5       0.83      0.20      0.33        99\\nnot_relevant       0.00      0.00      0.00        15\\n\\n    accuracy                           0.72       778\\n   macro avg       0.58      0.43      0.45       778\\nweighted avg       0.72      0.72      0.68       778\\n'"
            ],
            "application/vnd.google.colaboratory.intrinsic+json": {
              "type": "string"
            }
          },
          "metadata": {},
          "execution_count": 19
        }
      ]
    },
    {
      "cell_type": "markdown",
      "source": [
        "### Task 3: Implement sentiment analysis on the given dataset in Natural Language Processing"
      ],
      "metadata": {
        "id": "tpmLasOmly-g"
      },
      "id": "tpmLasOmly-g"
    },
    {
      "cell_type": "code",
      "source": [
        "nlp = spacy.load(\"en_core_web_sm\")"
      ],
      "metadata": {
        "id": "Jsxyg1pGlwQh"
      },
      "id": "Jsxyg1pGlwQh",
      "execution_count": 21,
      "outputs": []
    },
    {
      "cell_type": "code",
      "source": [
        "def preprocess(text):\n",
        "    doc = nlp(text)\n",
        "    return [token.text for token in doc if not token.is_punct and not token.is_space]\n",
        "\n",
        "\n",
        "tokenized_tweets = [preprocess(tweet) for tweet in df['text']]"
      ],
      "metadata": {
        "id": "E3-iUkDdl8q5"
      },
      "id": "E3-iUkDdl8q5",
      "execution_count": 22,
      "outputs": []
    },
    {
      "cell_type": "code",
      "source": [
        "model = Word2Vec(tokenized_tweets, vector_size=100, window=5, min_count=1, sg=0)\n",
        "document_embeddings = []\n",
        "\n",
        "for tokenized_tweet in tokenized_tweets:\n",
        "\n",
        "    valid_tokens = [token for token in tokenized_tweet if token in model.wv]\n",
        "\n",
        "    if valid_tokens:\n",
        "\n",
        "        avg_embedding = sum(model.wv[token] for token in valid_tokens) / len(valid_tokens)\n",
        "        document_embeddings.append(avg_embedding)\n",
        "    else:\n",
        "\n",
        "        document_embeddings.append(None)"
      ],
      "metadata": {
        "id": "swdZokb2l-kK"
      },
      "id": "swdZokb2l-kK",
      "execution_count": 23,
      "outputs": []
    },
    {
      "cell_type": "markdown",
      "source": [
        "### Task 4: Analyze and comprehend the results obtained"
      ],
      "metadata": {
        "id": "xp7PCFZumYP2"
      },
      "id": "xp7PCFZumYP2"
    },
    {
      "cell_type": "code",
      "source": [
        "tweet1_embedding = document_embeddings[0]\n",
        "tweet2_embedding = document_embeddings[1]"
      ],
      "metadata": {
        "id": "pigTRQMKmKyW"
      },
      "id": "pigTRQMKmKyW",
      "execution_count": 24,
      "outputs": []
    },
    {
      "cell_type": "code",
      "source": [
        "def cosine_similarity(vec1, vec2):\n",
        "    return dot(vec1, vec2) / (norm(vec1) * norm(vec2))\n"
      ],
      "metadata": {
        "id": "AD2Im79jmMIE"
      },
      "id": "AD2Im79jmMIE",
      "execution_count": 25,
      "outputs": []
    },
    {
      "cell_type": "code",
      "source": [
        "if tweet1_embedding is not None and tweet2_embedding is not None:\n",
        "    similarity = cosine_similarity(tweet1_embedding, tweet2_embedding)\n",
        "else:\n",
        "    similarity = None\n",
        "print(f\"Similarity between tweet 1 and tweet 2: {similarity}\")\n"
      ],
      "metadata": {
        "colab": {
          "base_uri": "https://localhost:8080/"
        },
        "id": "aeawW9WgmNCO",
        "outputId": "00708ab9-ecea-4a1c-bc9f-4539a40b27b6"
      },
      "id": "aeawW9WgmNCO",
      "execution_count": 26,
      "outputs": [
        {
          "output_type": "stream",
          "name": "stdout",
          "text": [
            "Similarity between tweet 1 and tweet 2: 0.9979607462882996\n"
          ]
        }
      ]
    },
    {
      "cell_type": "markdown",
      "source": [
        "### Conclusion:\n",
        "Based on the experiment conducted, we can conclude that the sentiment analysis performed on the given dataset in Natural Language Processing was successful. The dataset was selected and the problem statement was identified. EDA, text preprocessing, and feature engineering were performed to prepare the dataset for sentiment analysis. The results obtained were analyzed and comprehended."
      ],
      "metadata": {
        "id": "cdjkexHSmstP"
      },
      "id": "cdjkexHSmstP"
    }
  ],
  "metadata": {
    "kernelspec": {
      "display_name": "Python 3 (ipykernel)",
      "language": "python",
      "name": "python3"
    },
    "language_info": {
      "codemirror_mode": {
        "name": "ipython",
        "version": 3
      },
      "file_extension": ".py",
      "mimetype": "text/x-python",
      "name": "python",
      "nbconvert_exporter": "python",
      "pygments_lexer": "ipython3",
      "version": "3.9.13"
    },
    "colab": {
      "provenance": []
    }
  },
  "nbformat": 4,
  "nbformat_minor": 5
}